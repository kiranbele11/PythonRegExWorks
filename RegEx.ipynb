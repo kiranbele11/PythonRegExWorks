{
 "cells": [
  {
   "cell_type": "markdown",
   "id": "2982396c-60e2-47a7-8266-81e9b0bb2d94",
   "metadata": {},
   "source": [
    "# Regular Expressions"
   ]
  },
  {
   "cell_type": "code",
   "execution_count": null,
   "id": "6a380036-868a-46bf-ba23-0af2c32717fd",
   "metadata": {},
   "outputs": [],
   "source": [
    "import re # regular expression library"
   ]
  },
  {
   "cell_type": "code",
   "execution_count": 6,
   "id": "7ed24c41-f9fb-42c1-8cc9-8134479a6f27",
   "metadata": {},
   "outputs": [],
   "source": [
    "t = \"äö burger is öö good € ü\""
   ]
  },
  {
   "cell_type": "code",
   "execution_count": 7,
   "id": "85dd6a24-2ffa-4513-b7d0-990887d05ee0",
   "metadata": {},
   "outputs": [
    {
     "data": {
      "text/plain": [
       "'äö burger is öö good € ü'"
      ]
     },
     "execution_count": 7,
     "metadata": {},
     "output_type": "execute_result"
    }
   ],
   "source": [
    "t"
   ]
  },
  {
   "cell_type": "code",
   "execution_count": 8,
   "id": "758c891a-2549-454f-a030-105b81ae688e",
   "metadata": {},
   "outputs": [
    {
     "data": {
      "text/plain": [
       "'Our burger is öö good € ü'"
      ]
     },
     "execution_count": 8,
     "metadata": {},
     "output_type": "execute_result"
    }
   ],
   "source": [
    "t1 = t.replace(\"äö\", \"Our\")\n",
    "t1"
   ]
  },
  {
   "cell_type": "code",
   "execution_count": 9,
   "id": "3e7d708f-99c8-442c-94d1-92576868b907",
   "metadata": {},
   "outputs": [
    {
     "data": {
      "text/plain": [
       "'Our burger is Too good € ü'"
      ]
     },
     "execution_count": 9,
     "metadata": {},
     "output_type": "execute_result"
    }
   ],
   "source": [
    "t2 = t1.replace(\"öö\", \"Too\")\n",
    "t2"
   ]
  },
  {
   "cell_type": "code",
   "execution_count": 10,
   "id": "ad292890-7dfa-4b65-93df-8095baa2dc3d",
   "metadata": {},
   "outputs": [
    {
     "data": {
      "text/plain": [
       "'Our burger is Too good to taste.'"
      ]
     },
     "execution_count": 10,
     "metadata": {},
     "output_type": "execute_result"
    }
   ],
   "source": [
    "t3 = t2.replace(\"€ ü\", \"to taste.\")\n",
    "t3"
   ]
  },
  {
   "cell_type": "code",
   "execution_count": 11,
   "id": "fbd22337-4817-4143-952c-fa5e40f89f01",
   "metadata": {},
   "outputs": [],
   "source": [
    "# # Patterns in regular expression\n",
    "# regular_expression = [a-z]@[a-z].[a-z] # For email ids"
   ]
  },
  {
   "cell_type": "code",
   "execution_count": 28,
   "id": "2ec587f7-857d-413b-a45d-5cc324446d3e",
   "metadata": {},
   "outputs": [],
   "source": [
    "t4= \"My contact number in 97760977600\""
   ]
  },
  {
   "cell_type": "code",
   "execution_count": 29,
   "id": "214393fc-4e62-47ad-a24a-c299b52f13c2",
   "metadata": {},
   "outputs": [],
   "source": [
    "# re.sub(\"\\D\", \"\", t4) # It replaces \"which ever is not a digit\" to empty string"
   ]
  },
  {
   "cell_type": "code",
   "execution_count": 30,
   "id": "9a9cb25d-24c4-477f-8c07-dcf27cd6b236",
   "metadata": {},
   "outputs": [],
   "source": [
    "# re.sub(\"\\d\", \"\", t4) # It replaces \"which ever is not a digit\" to empty string"
   ]
  },
  {
   "cell_type": "code",
   "execution_count": 31,
   "id": "3a247daa-c2dd-482a-a0cb-f9975b5ac45b",
   "metadata": {},
   "outputs": [
    {
     "data": {
      "text/plain": [
       "'My contact number in ###########'"
      ]
     },
     "execution_count": 31,
     "metadata": {},
     "output_type": "execute_result"
    }
   ],
   "source": [
    "re.sub(\"[0-9]\", \"#\", t4)"
   ]
  },
  {
   "cell_type": "code",
   "execution_count": 32,
   "id": "9a86423b-e17e-48df-ab18-f57bc432ca4f",
   "metadata": {},
   "outputs": [
    {
     "data": {
      "text/plain": [
       "'My contact number in ###########'"
      ]
     },
     "execution_count": 32,
     "metadata": {},
     "output_type": "execute_result"
    }
   ],
   "source": [
    "re.sub(\"\\d\", \"#\", t4)"
   ]
  },
  {
   "cell_type": "code",
   "execution_count": 33,
   "id": "99fb1a19-8eca-45be-b297-0cc319c9fcdd",
   "metadata": {},
   "outputs": [
    {
     "data": {
      "text/plain": [
       "'#####################97760977600'"
      ]
     },
     "execution_count": 33,
     "metadata": {},
     "output_type": "execute_result"
    }
   ],
   "source": [
    "re.sub(\"[^0-9]\", \"#\", t4) # [^] equivalent to not operator "
   ]
  },
  {
   "cell_type": "code",
   "execution_count": 34,
   "id": "777dd34d-534e-448f-9c5a-117da539b04b",
   "metadata": {},
   "outputs": [
    {
     "data": {
      "text/plain": [
       "'Our burger is öö good € ü'"
      ]
     },
     "execution_count": 34,
     "metadata": {},
     "output_type": "execute_result"
    }
   ],
   "source": [
    "t1"
   ]
  },
  {
   "cell_type": "code",
   "execution_count": 36,
   "id": "defa53dc-712e-4a8a-9e0d-74c9e9ea27d3",
   "metadata": {},
   "outputs": [
    {
     "data": {
      "text/plain": [
       "'Our$burger$is$$$$good$$$$'"
      ]
     },
     "execution_count": 36,
     "metadata": {},
     "output_type": "execute_result"
    }
   ],
   "source": [
    "re.sub(\"[^A-z]\", \"$\", t1) "
   ]
  },
  {
   "cell_type": "code",
   "execution_count": 38,
   "id": "80f3cbd1-2c4f-404b-a67d-41f5a6646324",
   "metadata": {},
   "outputs": [
    {
     "name": "stdout",
     "output_type": "stream",
     "text": [
      "Our\n",
      "burger\n",
      "is\n",
      "good\n"
     ]
    }
   ],
   "source": [
    "for  i in re.sub(\"[^A-z]\", \" \", t1).split():\n",
    "    print (i)"
   ]
  },
  {
   "cell_type": "code",
   "execution_count": 39,
   "id": "ed6d4a46-6853-45d0-9718-2b28378e0090",
   "metadata": {},
   "outputs": [],
   "source": [
    "text = \"\"\"#KGF2 IS A NEW INDUSTRY HIT AT KA BO..🔥💥\n",
    "\n",
    "Week 1- ₹ 125cr\n",
    "Fri-₹ 5cr\n",
    "Sat- ₹ 9cr\n",
    "Sun- ₹ 12cr\n",
    "Total 11 Days Gross - ₹ 150cr\"\"\""
   ]
  },
  {
   "cell_type": "code",
   "execution_count": 40,
   "id": "d1c075a5-4625-40c0-9fdb-81df458feffd",
   "metadata": {},
   "outputs": [
    {
     "data": {
      "text/plain": [
       "'#KGF2 IS A NEW INDUSTRY HIT AT KA BO..🔥💥\\n\\nWeek 1- ₹ 125cr\\nFri-₹ 5cr\\nSat- ₹ 9cr\\nSun- ₹ 12cr\\nTotal 11 Days Gross - ₹ 150cr'"
      ]
     },
     "execution_count": 40,
     "metadata": {},
     "output_type": "execute_result"
    }
   ],
   "source": [
    "text"
   ]
  },
  {
   "cell_type": "code",
   "execution_count": 41,
   "id": "b30bbfb6-6ccc-482f-9921-7bc5d0ab2640",
   "metadata": {},
   "outputs": [
    {
     "data": {
      "text/plain": [
       "['- ₹ 125cr', '- ₹ 9cr', '- ₹ 12cr', '- ₹ 150cr']"
      ]
     },
     "execution_count": 41,
     "metadata": {},
     "output_type": "execute_result"
    }
   ],
   "source": [
    "#- ₹ 125cr\n",
    "# re.findall(pattern, string)\n",
    "# a+ |  aa, a, aaaa, aaaaaa\n",
    "re.findall(\"- ₹ [0-9]+cr\", text)"
   ]
  },
  {
   "cell_type": "code",
   "execution_count": 42,
   "id": "74f7657a-4759-4a38-a192-d23b32a98a27",
   "metadata": {},
   "outputs": [
    {
     "data": {
      "text/plain": [
       "['- ₹ 125cr', '- ₹ 9cr', '- ₹ 12cr', '- ₹ 150cr']"
      ]
     },
     "execution_count": 42,
     "metadata": {},
     "output_type": "execute_result"
    }
   ],
   "source": [
    "re.findall(\"-\\s+₹ [0-9]+cr\", text)"
   ]
  },
  {
   "cell_type": "code",
   "execution_count": 43,
   "id": "43ae790f-205e-4190-b24d-265a5d28503f",
   "metadata": {},
   "outputs": [
    {
     "data": {
      "text/plain": [
       "['- ₹ 125cr', '-₹ 5cr', '- ₹ 9cr', '- ₹ 12cr', '- ₹ 150cr']"
      ]
     },
     "execution_count": 43,
     "metadata": {},
     "output_type": "execute_result"
    }
   ],
   "source": [
    "re.findall(\"-\\s*₹ [0-9]+cr\", text)"
   ]
  },
  {
   "cell_type": "code",
   "execution_count": 46,
   "id": "8111dd09-d352-4a60-8572-e6779ee7ef9c",
   "metadata": {},
   "outputs": [
    {
     "data": {
      "text/plain": [
       "[]"
      ]
     },
     "execution_count": 46,
     "metadata": {},
     "output_type": "execute_result"
    }
   ],
   "source": [
    "# * : 0 or more occureence\n",
    "# + : 1 or more occcurence\n",
    "# of the patteern\n",
    "\n",
    "# Week 1- ₹ 125cr\n",
    "# Fri-₹ 5cr\n",
    "# Sat- ₹ 9cr\n",
    "# Sun- ₹ 12cr\n",
    "\n",
    "# Z - ₹ 125cr\n",
    "\n",
    "re.findall(\"[A-Z]-\\s*₹ [0-9]+cr\", text) # <<<<------"
   ]
  },
  {
   "cell_type": "code",
   "execution_count": 47,
   "id": "7631e288-77d1-4d61-8e00-11a22f4c27d4",
   "metadata": {},
   "outputs": [
    {
     "data": {
      "text/plain": [
       "[]"
      ]
     },
     "execution_count": 47,
     "metadata": {},
     "output_type": "execute_result"
    }
   ],
   "source": [
    "re.findall(\"[A-Z]+-\\s*₹ [0-9]+cr\", text) # <<<<------"
   ]
  },
  {
   "cell_type": "code",
   "execution_count": 48,
   "id": "bfa64a92-bc7a-4579-98a0-e39b8e7e8dbc",
   "metadata": {},
   "outputs": [
    {
     "data": {
      "text/plain": [
       "['- ₹ 125cr', '-₹ 5cr', '- ₹ 9cr', '- ₹ 12cr', '- ₹ 150cr']"
      ]
     },
     "execution_count": 48,
     "metadata": {},
     "output_type": "execute_result"
    }
   ],
   "source": [
    "re.findall(\"[A-Z]*-\\s*₹ [0-9]+cr\", text) # <<<<------"
   ]
  },
  {
   "cell_type": "code",
   "execution_count": 49,
   "id": "fa93f816-5e42-42ba-91e8-8eeb205ae883",
   "metadata": {},
   "outputs": [
    {
     "data": {
      "text/plain": [
       "['Fri-₹ 5cr', 'Sat- ₹ 9cr', 'Sun- ₹ 12cr']"
      ]
     },
     "execution_count": 49,
     "metadata": {},
     "output_type": "execute_result"
    }
   ],
   "source": [
    "re.findall(\"[A-Za-z]+-\\s*₹ [0-9]+cr\", text) # <<<<------"
   ]
  },
  {
   "cell_type": "code",
   "execution_count": 54,
   "id": "c19452de-9591-4927-b8c4-512999be1344",
   "metadata": {},
   "outputs": [
    {
     "data": {
      "text/plain": [
       "'#KGF2 IS A NEW INDUSTRY HIT AT KA BO..🔥💥\\n\\nWeek 1- ₹ 125cr\\nFri-₹ 5cr\\nSat- ₹ 9cr\\nSun- ₹ 12cr\\nTotal 11 Days Gross - ₹ 150cr'"
      ]
     },
     "execution_count": 54,
     "metadata": {},
     "output_type": "execute_result"
    }
   ],
   "source": [
    "text"
   ]
  },
  {
   "cell_type": "code",
   "execution_count": 57,
   "id": "7427509c-9f8f-44a6-b9f6-5b144b8cd763",
   "metadata": {},
   "outputs": [
    {
     "data": {
      "text/plain": [
       "['Week 1- ₹ 125cr']"
      ]
     },
     "execution_count": 57,
     "metadata": {},
     "output_type": "execute_result"
    }
   ],
   "source": [
    "re.findall(\"[A-Za-z]+[ ]*[0-9]+-\\s*₹ [0-9]+cr\", text) # <<<<------"
   ]
  },
  {
   "cell_type": "code",
   "execution_count": 58,
   "id": "b6d9666a-37ee-4c39-88ad-50f19f228780",
   "metadata": {},
   "outputs": [
    {
     "data": {
      "text/plain": [
       "['Week 1- ₹ 125cr',\n",
       " 'Fri-₹ 5cr',\n",
       " 'Sat- ₹ 9cr',\n",
       " 'Sun- ₹ 12cr',\n",
       " 'Gross - ₹ 150cr']"
      ]
     },
     "execution_count": 58,
     "metadata": {},
     "output_type": "execute_result"
    }
   ],
   "source": [
    "re.findall(\"[A-Za-z]+[ ]*[0-9]*-\\s*₹ [0-9]+cr\", text) # <<<<------"
   ]
  },
  {
   "cell_type": "code",
   "execution_count": 59,
   "id": "f22b8708-c6b4-4c3a-951f-3a56574eac59",
   "metadata": {},
   "outputs": [],
   "source": [
    "rev = \"\"\"On March 23 2022 1:22 pm, I had placed an order via the website and completed online PAYMENT of the same using UPI (Approve to pay mode). The amount was debit but transaction not reversed. On contacting the Bank, they have said that they have tried to contact the merchant (KFC) but merchant refused to reverse the funds.\n",
    "Amount 444.99\n",
    "\n",
    "Hence I had to repay and reorder. Please refund my money asap. Merchants are liable...\"\"\""
   ]
  },
  {
   "cell_type": "code",
   "execution_count": 67,
   "id": "1c36d87a-e949-49d1-8309-92c129476a65",
   "metadata": {},
   "outputs": [
    {
     "data": {
      "text/plain": [
       "'On March 23 2022 1:22 pm, I had placed an order via the website and completed online PAYMENT of the same using UPI (Approve to pay mode). The amount was debit but transaction not reversed. On contacting the Bank, they have said that they have tried to contact the merchant (KFC) but merchant refused to reverse the funds.\\nAmount 444.99\\n\\nHence I had to repay and reorder. Please refund my money asap. Merchants are liable...'"
      ]
     },
     "execution_count": 67,
     "metadata": {},
     "output_type": "execute_result"
    }
   ],
   "source": [
    "rev"
   ]
  },
  {
   "cell_type": "code",
   "execution_count": 61,
   "id": "4ccb6c2b-fdd5-46fd-9c38-837263104808",
   "metadata": {},
   "outputs": [
    {
     "data": {
      "text/plain": [
       "['PAY', 'MEN', 'UPI', 'KFC']"
      ]
     },
     "execution_count": 61,
     "metadata": {},
     "output_type": "execute_result"
    }
   ],
   "source": [
    "# extract all three lettered strings with capital letters\n",
    "# ree.findall(\"\" , rev)\n",
    "re.findall(\"[A-Z]{3}\",rev)"
   ]
  },
  {
   "cell_type": "code",
   "execution_count": 62,
   "id": "4896ee07-8c43-4342-8340-e1f258012f15",
   "metadata": {},
   "outputs": [
    {
     "data": {
      "text/plain": [
       "['PAYMENT', 'UPI', 'KFC']"
      ]
     },
     "execution_count": 62,
     "metadata": {},
     "output_type": "execute_result"
    }
   ],
   "source": [
    "re.findall(\"[A-Z]+[A-Z]+[A-Z]\", rev)"
   ]
  },
  {
   "cell_type": "code",
   "execution_count": 65,
   "id": "e17c8201-6ff7-412b-a259-9d1c5c6fd136",
   "metadata": {},
   "outputs": [
    {
     "data": {
      "text/plain": [
       "['PAYMENT', 'UPI', 'KFC']"
      ]
     },
     "execution_count": 65,
     "metadata": {},
     "output_type": "execute_result"
    }
   ],
   "source": [
    "re.findall(\"[A-Z]+[A-Z]+\", rev)"
   ]
  },
  {
   "cell_type": "code",
   "execution_count": 66,
   "id": "5a61322c-47ef-4d8d-8fba-61381f56274e",
   "metadata": {},
   "outputs": [
    {
     "data": {
      "text/plain": [
       "['PAYMENT', 'UPI', 'KFC']"
      ]
     },
     "execution_count": 66,
     "metadata": {},
     "output_type": "execute_result"
    }
   ],
   "source": [
    "re.findall(\"[A-Z]+[A-Z]+[A-Z]\", rev)"
   ]
  },
  {
   "cell_type": "code",
   "execution_count": 68,
   "id": "e0bce3cb-3a37-490c-8e12-9ca78eff538e",
   "metadata": {},
   "outputs": [
    {
     "data": {
      "text/plain": [
       "['O',\n",
       " 'M',\n",
       " 'I',\n",
       " 'PAYMENT',\n",
       " 'UPI',\n",
       " 'A',\n",
       " 'T',\n",
       " 'O',\n",
       " 'B',\n",
       " 'KFC',\n",
       " 'A',\n",
       " 'H',\n",
       " 'I',\n",
       " 'P',\n",
       " 'M']"
      ]
     },
     "execution_count": 68,
     "metadata": {},
     "output_type": "execute_result"
    }
   ],
   "source": [
    "re.findall(\"[A-Z]+\", rev)"
   ]
  },
  {
   "cell_type": "code",
   "execution_count": 70,
   "id": "e53027c2-b292-4bdd-b086-66618b863a8e",
   "metadata": {},
   "outputs": [
    {
     "data": {
      "text/plain": [
       "['23', '2022', '1', '22', '444', '99']"
      ]
     },
     "execution_count": 70,
     "metadata": {},
     "output_type": "execute_result"
    }
   ],
   "source": [
    "# find digits from the string\n",
    "re.findall(\"[0-9]+\",rev)"
   ]
  },
  {
   "cell_type": "code",
   "execution_count": 73,
   "id": "fb27556a-ccb3-404f-b26b-a98073e054bb",
   "metadata": {},
   "outputs": [
    {
     "data": {
      "text/plain": [
       "['On',\n",
       " 'March',\n",
       " 'pm',\n",
       " 'I',\n",
       " 'had',\n",
       " 'placed',\n",
       " 'an',\n",
       " 'order',\n",
       " 'via',\n",
       " 'the',\n",
       " 'website',\n",
       " 'and',\n",
       " 'completed',\n",
       " 'online',\n",
       " 'PAYMENT',\n",
       " 'of',\n",
       " 'the',\n",
       " 'same',\n",
       " 'using',\n",
       " 'UPI',\n",
       " 'Approve',\n",
       " 'to',\n",
       " 'pay',\n",
       " 'mode',\n",
       " 'The',\n",
       " 'amount',\n",
       " 'was',\n",
       " 'debit',\n",
       " 'but',\n",
       " 'transaction',\n",
       " 'not',\n",
       " 'reversed',\n",
       " 'On',\n",
       " 'contacting',\n",
       " 'the',\n",
       " 'Bank',\n",
       " 'they',\n",
       " 'have',\n",
       " 'said',\n",
       " 'that',\n",
       " 'they',\n",
       " 'have',\n",
       " 'tried',\n",
       " 'to',\n",
       " 'contact',\n",
       " 'the',\n",
       " 'merchant',\n",
       " 'KFC',\n",
       " 'but',\n",
       " 'merchant',\n",
       " 'refused',\n",
       " 'to',\n",
       " 'reverse',\n",
       " 'the',\n",
       " 'funds',\n",
       " 'Amount',\n",
       " 'Hence',\n",
       " 'I',\n",
       " 'had',\n",
       " 'to',\n",
       " 'repay',\n",
       " 'and',\n",
       " 'reorder',\n",
       " 'Please',\n",
       " 'refund',\n",
       " 'my',\n",
       " 'money',\n",
       " 'asap',\n",
       " 'Merchants',\n",
       " 'are',\n",
       " 'liable']"
      ]
     },
     "execution_count": 73,
     "metadata": {},
     "output_type": "execute_result"
    }
   ],
   "source": [
    "# Find all the strings that starts with Capital letter\n",
    "re.findall(\"[A-Za-z]+\",rev)  #<<<--- Not right response"
   ]
  },
  {
   "cell_type": "code",
   "execution_count": 77,
   "id": "912c0d79-7032-4d6c-b015-26f3897b422d",
   "metadata": {},
   "outputs": [
    {
     "data": {
      "text/plain": [
       "['On',\n",
       " 'March',\n",
       " 'I',\n",
       " 'PAYMENT',\n",
       " 'UPI',\n",
       " 'Approve',\n",
       " 'The',\n",
       " 'On',\n",
       " 'Bank',\n",
       " 'KFC',\n",
       " 'Amount',\n",
       " 'Hence',\n",
       " 'I',\n",
       " 'Please',\n",
       " 'Merchants']"
      ]
     },
     "execution_count": 77,
     "metadata": {},
     "output_type": "execute_result"
    }
   ],
   "source": [
    "# Find all the words that starts with Capital letter\n",
    "\n",
    "re.findall(\"[A-Z][a-zA-Z]*\",rev)"
   ]
  },
  {
   "cell_type": "code",
   "execution_count": 79,
   "id": "ef5bd8f6-857e-4cd0-a5ba-3b7da6a6ea9b",
   "metadata": {},
   "outputs": [
    {
     "data": {
      "text/plain": [
       "['202', '444']"
      ]
     },
     "execution_count": 79,
     "metadata": {},
     "output_type": "execute_result"
    }
   ],
   "source": [
    "# all digits with minimun length of 3\n",
    "re.findall(\"[0-9]{3}\",rev) # Nor Correct"
   ]
  },
  {
   "cell_type": "code",
   "execution_count": 80,
   "id": "1ef9806c-0e55-4299-a53e-f689b5a9256f",
   "metadata": {},
   "outputs": [
    {
     "data": {
      "text/plain": [
       "['202', '444']"
      ]
     },
     "execution_count": 80,
     "metadata": {},
     "output_type": "execute_result"
    }
   ],
   "source": [
    "re.findall(\"[0-9][0-9][0-9]\",rev)  # Nor Correct"
   ]
  },
  {
   "cell_type": "code",
   "execution_count": 81,
   "id": "0b17a864-ef59-4278-bc2e-abdd9fdc2f8a",
   "metadata": {},
   "outputs": [
    {
     "data": {
      "text/plain": [
       "['2022', '444']"
      ]
     },
     "execution_count": 81,
     "metadata": {},
     "output_type": "execute_result"
    }
   ],
   "source": [
    "# all digits with minimun length of 3\n",
    "re.findall(\"[0-9][0-9][0-9]+\",rev)"
   ]
  },
  {
   "cell_type": "code",
   "execution_count": 83,
   "id": "e6c8db1a-b19b-4aa5-9006-7c645330b66e",
   "metadata": {},
   "outputs": [
    {
     "data": {
      "text/plain": [
       "'On March 23 2022 1:22 pm, I had placed an order via the website and completed online PAYMENT of the same using UPI (Approve to pay mode). The amount was debit but transaction not reversed. On contacting the Bank, they have said that they have tried to contact the merchant (KFC) but merchant refused to reverse the funds.\\nAmount 444.99\\n\\nHence I had to repay and reorder. Please refund my money asap. Merchants are liable...'"
      ]
     },
     "execution_count": 83,
     "metadata": {},
     "output_type": "execute_result"
    }
   ],
   "source": [
    "rev"
   ]
  },
  {
   "cell_type": "code",
   "execution_count": 90,
   "id": "b180d048-1dc5-4d08-8c81-d3f3384e0f02",
   "metadata": {},
   "outputs": [
    {
     "data": {
      "text/plain": [
       "['(Approve to pay mode)', '(KFC)']"
      ]
     },
     "execution_count": 90,
     "metadata": {},
     "output_type": "execute_result"
    }
   ],
   "source": [
    "## all content in () paranthesis\n",
    "re.findall(\"\\([A-z0-9 ]+\\)\",rev)"
   ]
  },
  {
   "cell_type": "code",
   "execution_count": 92,
   "id": "cd02dda5-e91f-426f-bd6e-002cc7383e71",
   "metadata": {},
   "outputs": [],
   "source": [
    "text1 =\"Mr.Sundar Pichai is CEO of Google.Mrs.Anjali Pichai is his wife. Mri Scan to be sat”red in their hospital Chennai. Mreenal \""
   ]
  },
  {
   "cell_type": "code",
   "execution_count": 93,
   "id": "9b56f76d-7ca3-42b6-bb89-4f798f43c390",
   "metadata": {},
   "outputs": [
    {
     "data": {
      "text/plain": [
       "'Mr.Sundar Pichai is CEO of Google.Mrs.Anjali Pichai is his wife. Mri Scan to be sat”red in their hospital Chennai. Mreenal '"
      ]
     },
     "execution_count": 93,
     "metadata": {},
     "output_type": "execute_result"
    }
   ],
   "source": [
    "text1"
   ]
  },
  {
   "cell_type": "code",
   "execution_count": 94,
   "id": "d573be6a-9efe-4628-b492-39e61d6a0762",
   "metadata": {},
   "outputs": [
    {
     "data": {
      "text/plain": [
       "['Mr.', 'Mrs.']"
      ]
     },
     "execution_count": 94,
     "metadata": {},
     "output_type": "execute_result"
    }
   ],
   "source": [
    "# all the salutations in the string\n",
    "re.findall(\"(?:Mr\\.|Mrs\\.|Ms\\.|Dr\\.|Sir|Madam)\",text1) # RegEx is not optimized"
   ]
  },
  {
   "cell_type": "code",
   "execution_count": 95,
   "id": "28658588-c814-46f9-9f69-12ad80cfc5ae",
   "metadata": {},
   "outputs": [
    {
     "data": {
      "text/plain": [
       "['Mr.', 'Mrs', 'Mri', 'Mre']"
      ]
     },
     "execution_count": 95,
     "metadata": {},
     "output_type": "execute_result"
    }
   ],
   "source": [
    "re.findall(\"Mr.\",text1) # RegEx is not optimized"
   ]
  },
  {
   "cell_type": "code",
   "execution_count": 96,
   "id": "013bee37-5a4b-472b-9753-70bdf256edc0",
   "metadata": {},
   "outputs": [
    {
     "data": {
      "text/plain": [
       "['Mr.']"
      ]
     },
     "execution_count": 96,
     "metadata": {},
     "output_type": "execute_result"
    }
   ],
   "source": [
    "re.findall(\"Mr\\.\",text1) # RegEx is not optimized"
   ]
  },
  {
   "cell_type": "code",
   "execution_count": 97,
   "id": "ae450a63-417b-449b-8462-d74f08eb5742",
   "metadata": {},
   "outputs": [
    {
     "data": {
      "text/plain": [
       "['Mrs.']"
      ]
     },
     "execution_count": 97,
     "metadata": {},
     "output_type": "execute_result"
    }
   ],
   "source": [
    "re.findall(\"Mrs\\.\",text1) # RegEx is not optimized"
   ]
  },
  {
   "cell_type": "code",
   "execution_count": 98,
   "id": "d09e88f1-a55e-4674-bc5f-e9f1911c07c3",
   "metadata": {},
   "outputs": [
    {
     "data": {
      "text/plain": [
       "['Mr.', 'Mrs.']"
      ]
     },
     "execution_count": 98,
     "metadata": {},
     "output_type": "execute_result"
    }
   ],
   "source": [
    "re.findall(\"Mrs?\\.\",text1) # RegEx is  optimized"
   ]
  },
  {
   "cell_type": "code",
   "execution_count": 86,
   "id": "11286f10-8a1b-41e7-b1ca-7590a82672e2",
   "metadata": {},
   "outputs": [
    {
     "data": {
      "text/plain": [
       "['1:22 pm']"
      ]
     },
     "execution_count": 86,
     "metadata": {},
     "output_type": "execute_result"
    }
   ],
   "source": [
    "# all time information\n",
    "re.findall(\"[0-9]+:[0-9]+[ ]*[A-z]{2}\",rev)"
   ]
  },
  {
   "cell_type": "markdown",
   "id": "2d9452c3-244b-4cdd-b7b0-9ea88246cab2",
   "metadata": {},
   "source": [
    "Major functions that are available in re:\n",
    "\n",
    "`Match` - Returns a match object if there is a match found at beginning of string.    \n",
    "`Search` - Returns a match object if there is a match found.  \n",
    "`findall` - Returns a list of all matches.   \n",
    "`sub` - Replaces one or more matches within the text.   \n",
    "`split` - Returns a list where the text has been split at every match.  \n",
    "`Compile` - Returns a RegEx pattern object.  "
   ]
  },
  {
   "cell_type": "code",
   "execution_count": 101,
   "id": "fe3c4518-f941-4012-8bf1-fda156586346",
   "metadata": {},
   "outputs": [
    {
     "data": {
      "text/plain": [
       "'I love ODI. The matches in ODI are fun.'"
      ]
     },
     "execution_count": 101,
     "metadata": {},
     "output_type": "execute_result"
    }
   ],
   "source": [
    "tweet1 = \"I love ODI. The matches in ODI are fun.\"\n",
    "tweet1 \n"
   ]
  },
  {
   "cell_type": "code",
   "execution_count": 102,
   "id": "b0e436a7-4879-40d9-b1d4-9e58f2be7091",
   "metadata": {},
   "outputs": [
    {
     "data": {
      "text/plain": [
       "'ODI is love. The matches in ODI are fun.'"
      ]
     },
     "execution_count": 102,
     "metadata": {},
     "output_type": "execute_result"
    }
   ],
   "source": [
    "tweet2 = \"ODI is love. The matches in ODI are fun.\"\n",
    "tweet2 \n"
   ]
  },
  {
   "cell_type": "code",
   "execution_count": 107,
   "id": "e58ddf56-73b7-4b2e-b4a2-203cea0aed2e",
   "metadata": {},
   "outputs": [
    {
     "name": "stdout",
     "output_type": "stream",
     "text": [
      "None\n"
     ]
    }
   ],
   "source": [
    "a = re.match(\"ODI\", tweet1)\n",
    "print(a)"
   ]
  },
  {
   "cell_type": "code",
   "execution_count": 110,
   "id": "7ecfdc88-acbc-4153-98bb-5702edd6dd5a",
   "metadata": {},
   "outputs": [
    {
     "name": "stdout",
     "output_type": "stream",
     "text": [
      "<re.Match object; span=(0, 3), match='ODI'>\n"
     ]
    }
   ],
   "source": [
    "b = re.match(\"ODI\", tweet2)\n",
    "print(b)"
   ]
  },
  {
   "cell_type": "code",
   "execution_count": 111,
   "id": "f32bec3c-58f2-4052-ba0f-755cf9864e88",
   "metadata": {},
   "outputs": [
    {
     "data": {
      "text/plain": [
       "(0, 3)"
      ]
     },
     "execution_count": 111,
     "metadata": {},
     "output_type": "execute_result"
    }
   ],
   "source": [
    "b.span()"
   ]
  },
  {
   "cell_type": "code",
   "execution_count": 114,
   "id": "a5b0e59a-4790-4513-9000-71f4b289372c",
   "metadata": {},
   "outputs": [
    {
     "data": {
      "text/plain": [
       "['__class__',\n",
       " '__copy__',\n",
       " '__deepcopy__',\n",
       " '__delattr__',\n",
       " '__dir__',\n",
       " '__doc__',\n",
       " '__eq__',\n",
       " '__format__',\n",
       " '__ge__',\n",
       " '__getattribute__',\n",
       " '__getitem__',\n",
       " '__gt__',\n",
       " '__hash__',\n",
       " '__init__',\n",
       " '__init_subclass__',\n",
       " '__le__',\n",
       " '__lt__',\n",
       " '__ne__',\n",
       " '__new__',\n",
       " '__reduce__',\n",
       " '__reduce_ex__',\n",
       " '__repr__',\n",
       " '__setattr__',\n",
       " '__sizeof__',\n",
       " '__str__',\n",
       " '__subclasshook__',\n",
       " 'end',\n",
       " 'endpos',\n",
       " 'expand',\n",
       " 'group',\n",
       " 'groupdict',\n",
       " 'groups',\n",
       " 'lastgroup',\n",
       " 'lastindex',\n",
       " 'pos',\n",
       " 're',\n",
       " 'regs',\n",
       " 'span',\n",
       " 'start',\n",
       " 'string']"
      ]
     },
     "execution_count": 114,
     "metadata": {},
     "output_type": "execute_result"
    }
   ],
   "source": [
    "dir(b)"
   ]
  },
  {
   "cell_type": "code",
   "execution_count": 115,
   "id": "2d66c015-9efc-48ce-8bfd-c22726af4b45",
   "metadata": {},
   "outputs": [
    {
     "data": {
      "text/plain": [
       "'ODI'"
      ]
     },
     "execution_count": 115,
     "metadata": {},
     "output_type": "execute_result"
    }
   ],
   "source": [
    "b.group()"
   ]
  },
  {
   "cell_type": "code",
   "execution_count": 1,
   "id": "b012b99a-ae64-4acb-9ae2-165f69910506",
   "metadata": {},
   "outputs": [],
   "source": [
    "import re"
   ]
  },
  {
   "cell_type": "code",
   "execution_count": 2,
   "id": "8b3b1e64-80ab-4519-a85f-49522a27888f",
   "metadata": {
    "collapsed": true,
    "jupyter": {
     "outputs_hidden": true
    },
    "tags": []
   },
   "outputs": [
    {
     "name": "stdout",
     "output_type": "stream",
     "text": [
      "Help on module re:\n",
      "\n",
      "NAME\n",
      "    re - Support for regular expressions (RE).\n",
      "\n",
      "MODULE REFERENCE\n",
      "    https://docs.python.org/3.8/library/re\n",
      "    \n",
      "    The following documentation is automatically generated from the Python\n",
      "    source files.  It may be incomplete, incorrect or include features that\n",
      "    are considered implementation detail and may vary between Python\n",
      "    implementations.  When in doubt, consult the module reference at the\n",
      "    location listed above.\n",
      "\n",
      "DESCRIPTION\n",
      "    This module provides regular expression matching operations similar to\n",
      "    those found in Perl.  It supports both 8-bit and Unicode strings; both\n",
      "    the pattern and the strings being processed can contain null bytes and\n",
      "    characters outside the US ASCII range.\n",
      "    \n",
      "    Regular expressions can contain both special and ordinary characters.\n",
      "    Most ordinary characters, like \"A\", \"a\", or \"0\", are the simplest\n",
      "    regular expressions; they simply match themselves.  You can\n",
      "    concatenate ordinary characters, so last matches the string 'last'.\n",
      "    \n",
      "    The special characters are:\n",
      "        \".\"      Matches any character except a newline.\n",
      "        \"^\"      Matches the start of the string.\n",
      "        \"$\"      Matches the end of the string or just before the newline at\n",
      "                 the end of the string.\n",
      "        \"*\"      Matches 0 or more (greedy) repetitions of the preceding RE.\n",
      "                 Greedy means that it will match as many repetitions as possible.\n",
      "        \"+\"      Matches 1 or more (greedy) repetitions of the preceding RE.\n",
      "        \"?\"      Matches 0 or 1 (greedy) of the preceding RE.\n",
      "        *?,+?,?? Non-greedy versions of the previous three special characters.\n",
      "        {m,n}    Matches from m to n repetitions of the preceding RE.\n",
      "        {m,n}?   Non-greedy version of the above.\n",
      "        \"\\\\\"     Either escapes special characters or signals a special sequence.\n",
      "        []       Indicates a set of characters.\n",
      "                 A \"^\" as the first character indicates a complementing set.\n",
      "        \"|\"      A|B, creates an RE that will match either A or B.\n",
      "        (...)    Matches the RE inside the parentheses.\n",
      "                 The contents can be retrieved or matched later in the string.\n",
      "        (?aiLmsux) The letters set the corresponding flags defined below.\n",
      "        (?:...)  Non-grouping version of regular parentheses.\n",
      "        (?P<name>...) The substring matched by the group is accessible by name.\n",
      "        (?P=name)     Matches the text matched earlier by the group named name.\n",
      "        (?#...)  A comment; ignored.\n",
      "        (?=...)  Matches if ... matches next, but doesn't consume the string.\n",
      "        (?!...)  Matches if ... doesn't match next.\n",
      "        (?<=...) Matches if preceded by ... (must be fixed length).\n",
      "        (?<!...) Matches if not preceded by ... (must be fixed length).\n",
      "        (?(id/name)yes|no) Matches yes pattern if the group with id/name matched,\n",
      "                           the (optional) no pattern otherwise.\n",
      "    \n",
      "    The special sequences consist of \"\\\\\" and a character from the list\n",
      "    below.  If the ordinary character is not on the list, then the\n",
      "    resulting RE will match the second character.\n",
      "        \\number  Matches the contents of the group of the same number.\n",
      "        \\A       Matches only at the start of the string.\n",
      "        \\Z       Matches only at the end of the string.\n",
      "        \\b       Matches the empty string, but only at the start or end of a word.\n",
      "        \\B       Matches the empty string, but not at the start or end of a word.\n",
      "        \\d       Matches any decimal digit; equivalent to the set [0-9] in\n",
      "                 bytes patterns or string patterns with the ASCII flag.\n",
      "                 In string patterns without the ASCII flag, it will match the whole\n",
      "                 range of Unicode digits.\n",
      "        \\D       Matches any non-digit character; equivalent to [^\\d].\n",
      "        \\s       Matches any whitespace character; equivalent to [ \\t\\n\\r\\f\\v] in\n",
      "                 bytes patterns or string patterns with the ASCII flag.\n",
      "                 In string patterns without the ASCII flag, it will match the whole\n",
      "                 range of Unicode whitespace characters.\n",
      "        \\S       Matches any non-whitespace character; equivalent to [^\\s].\n",
      "        \\w       Matches any alphanumeric character; equivalent to [a-zA-Z0-9_]\n",
      "                 in bytes patterns or string patterns with the ASCII flag.\n",
      "                 In string patterns without the ASCII flag, it will match the\n",
      "                 range of Unicode alphanumeric characters (letters plus digits\n",
      "                 plus underscore).\n",
      "                 With LOCALE, it will match the set [0-9_] plus characters defined\n",
      "                 as letters for the current locale.\n",
      "        \\W       Matches the complement of \\w.\n",
      "        \\\\       Matches a literal backslash.\n",
      "    \n",
      "    This module exports the following functions:\n",
      "        match     Match a regular expression pattern to the beginning of a string.\n",
      "        fullmatch Match a regular expression pattern to all of a string.\n",
      "        search    Search a string for the presence of a pattern.\n",
      "        sub       Substitute occurrences of a pattern found in a string.\n",
      "        subn      Same as sub, but also return the number of substitutions made.\n",
      "        split     Split a string by the occurrences of a pattern.\n",
      "        findall   Find all occurrences of a pattern in a string.\n",
      "        finditer  Return an iterator yielding a Match object for each match.\n",
      "        compile   Compile a pattern into a Pattern object.\n",
      "        purge     Clear the regular expression cache.\n",
      "        escape    Backslash all non-alphanumerics in a string.\n",
      "    \n",
      "    Each function other than purge and escape can take an optional 'flags' argument\n",
      "    consisting of one or more of the following module constants, joined by \"|\".\n",
      "    A, L, and U are mutually exclusive.\n",
      "        A  ASCII       For string patterns, make \\w, \\W, \\b, \\B, \\d, \\D\n",
      "                       match the corresponding ASCII character categories\n",
      "                       (rather than the whole Unicode categories, which is the\n",
      "                       default).\n",
      "                       For bytes patterns, this flag is the only available\n",
      "                       behaviour and needn't be specified.\n",
      "        I  IGNORECASE  Perform case-insensitive matching.\n",
      "        L  LOCALE      Make \\w, \\W, \\b, \\B, dependent on the current locale.\n",
      "        M  MULTILINE   \"^\" matches the beginning of lines (after a newline)\n",
      "                       as well as the string.\n",
      "                       \"$\" matches the end of lines (before a newline) as well\n",
      "                       as the end of the string.\n",
      "        S  DOTALL      \".\" matches any character at all, including the newline.\n",
      "        X  VERBOSE     Ignore whitespace and comments for nicer looking RE's.\n",
      "        U  UNICODE     For compatibility only. Ignored for string patterns (it\n",
      "                       is the default), and forbidden for bytes patterns.\n",
      "    \n",
      "    This module also defines an exception 'error'.\n",
      "\n",
      "CLASSES\n",
      "    builtins.Exception(builtins.BaseException)\n",
      "        error\n",
      "    builtins.object\n",
      "        Match\n",
      "        Pattern\n",
      "    \n",
      "    class Match(builtins.object)\n",
      "     |  The result of re.match() and re.search().\n",
      "     |  Match objects always have a boolean value of True.\n",
      "     |  \n",
      "     |  Methods defined here:\n",
      "     |  \n",
      "     |  __copy__(self, /)\n",
      "     |  \n",
      "     |  __deepcopy__(self, memo, /)\n",
      "     |  \n",
      "     |  __getitem__(self, key, /)\n",
      "     |      Return self[key].\n",
      "     |  \n",
      "     |  __repr__(self, /)\n",
      "     |      Return repr(self).\n",
      "     |  \n",
      "     |  end(self, group=0, /)\n",
      "     |      Return index of the end of the substring matched by group.\n",
      "     |  \n",
      "     |  expand(self, /, template)\n",
      "     |      Return the string obtained by doing backslash substitution on the string template, as done by the sub() method.\n",
      "     |  \n",
      "     |  group(...)\n",
      "     |      group([group1, ...]) -> str or tuple.\n",
      "     |      Return subgroup(s) of the match by indices or names.\n",
      "     |      For 0 returns the entire match.\n",
      "     |  \n",
      "     |  groupdict(self, /, default=None)\n",
      "     |      Return a dictionary containing all the named subgroups of the match, keyed by the subgroup name.\n",
      "     |      \n",
      "     |      default\n",
      "     |        Is used for groups that did not participate in the match.\n",
      "     |  \n",
      "     |  groups(self, /, default=None)\n",
      "     |      Return a tuple containing all the subgroups of the match, from 1.\n",
      "     |      \n",
      "     |      default\n",
      "     |        Is used for groups that did not participate in the match.\n",
      "     |  \n",
      "     |  span(self, group=0, /)\n",
      "     |      For match object m, return the 2-tuple (m.start(group), m.end(group)).\n",
      "     |  \n",
      "     |  start(self, group=0, /)\n",
      "     |      Return index of the start of the substring matched by group.\n",
      "     |  \n",
      "     |  ----------------------------------------------------------------------\n",
      "     |  Data descriptors defined here:\n",
      "     |  \n",
      "     |  endpos\n",
      "     |      The index into the string beyond which the RE engine will not go.\n",
      "     |  \n",
      "     |  lastgroup\n",
      "     |      The name of the last matched capturing group.\n",
      "     |  \n",
      "     |  lastindex\n",
      "     |      The integer index of the last matched capturing group.\n",
      "     |  \n",
      "     |  pos\n",
      "     |      The index into the string at which the RE engine started looking for a match.\n",
      "     |  \n",
      "     |  re\n",
      "     |      The regular expression object.\n",
      "     |  \n",
      "     |  regs\n",
      "     |  \n",
      "     |  string\n",
      "     |      The string passed to match() or search().\n",
      "    \n",
      "    class Pattern(builtins.object)\n",
      "     |  Compiled regular expression object.\n",
      "     |  \n",
      "     |  Methods defined here:\n",
      "     |  \n",
      "     |  __copy__(self, /)\n",
      "     |  \n",
      "     |  __deepcopy__(self, memo, /)\n",
      "     |  \n",
      "     |  __eq__(self, value, /)\n",
      "     |      Return self==value.\n",
      "     |  \n",
      "     |  __ge__(self, value, /)\n",
      "     |      Return self>=value.\n",
      "     |  \n",
      "     |  __gt__(self, value, /)\n",
      "     |      Return self>value.\n",
      "     |  \n",
      "     |  __hash__(self, /)\n",
      "     |      Return hash(self).\n",
      "     |  \n",
      "     |  __le__(self, value, /)\n",
      "     |      Return self<=value.\n",
      "     |  \n",
      "     |  __lt__(self, value, /)\n",
      "     |      Return self<value.\n",
      "     |  \n",
      "     |  __ne__(self, value, /)\n",
      "     |      Return self!=value.\n",
      "     |  \n",
      "     |  __repr__(self, /)\n",
      "     |      Return repr(self).\n",
      "     |  \n",
      "     |  findall(self, /, string, pos=0, endpos=9223372036854775807)\n",
      "     |      Return a list of all non-overlapping matches of pattern in string.\n",
      "     |  \n",
      "     |  finditer(self, /, string, pos=0, endpos=9223372036854775807)\n",
      "     |      Return an iterator over all non-overlapping matches for the RE pattern in string.\n",
      "     |      \n",
      "     |      For each match, the iterator returns a match object.\n",
      "     |  \n",
      "     |  fullmatch(self, /, string, pos=0, endpos=9223372036854775807)\n",
      "     |      Matches against all of the string.\n",
      "     |  \n",
      "     |  match(self, /, string, pos=0, endpos=9223372036854775807)\n",
      "     |      Matches zero or more characters at the beginning of the string.\n",
      "     |  \n",
      "     |  scanner(self, /, string, pos=0, endpos=9223372036854775807)\n",
      "     |  \n",
      "     |  search(self, /, string, pos=0, endpos=9223372036854775807)\n",
      "     |      Scan through string looking for a match, and return a corresponding match object instance.\n",
      "     |      \n",
      "     |      Return None if no position in the string matches.\n",
      "     |  \n",
      "     |  split(self, /, string, maxsplit=0)\n",
      "     |      Split string by the occurrences of pattern.\n",
      "     |  \n",
      "     |  sub(self, /, repl, string, count=0)\n",
      "     |      Return the string obtained by replacing the leftmost non-overlapping occurrences of pattern in string by the replacement repl.\n",
      "     |  \n",
      "     |  subn(self, /, repl, string, count=0)\n",
      "     |      Return the tuple (new_string, number_of_subs_made) found by replacing the leftmost non-overlapping occurrences of pattern with the replacement repl.\n",
      "     |  \n",
      "     |  ----------------------------------------------------------------------\n",
      "     |  Data descriptors defined here:\n",
      "     |  \n",
      "     |  flags\n",
      "     |      The regex matching flags.\n",
      "     |  \n",
      "     |  groupindex\n",
      "     |      A dictionary mapping group names to group numbers.\n",
      "     |  \n",
      "     |  groups\n",
      "     |      The number of capturing groups in the pattern.\n",
      "     |  \n",
      "     |  pattern\n",
      "     |      The pattern string from which the RE object was compiled.\n",
      "    \n",
      "    class error(builtins.Exception)\n",
      "     |  error(msg, pattern=None, pos=None)\n",
      "     |  \n",
      "     |  Exception raised for invalid regular expressions.\n",
      "     |  \n",
      "     |  Attributes:\n",
      "     |  \n",
      "     |      msg: The unformatted error message\n",
      "     |      pattern: The regular expression pattern\n",
      "     |      pos: The index in the pattern where compilation failed (may be None)\n",
      "     |      lineno: The line corresponding to pos (may be None)\n",
      "     |      colno: The column corresponding to pos (may be None)\n",
      "     |  \n",
      "     |  Method resolution order:\n",
      "     |      error\n",
      "     |      builtins.Exception\n",
      "     |      builtins.BaseException\n",
      "     |      builtins.object\n",
      "     |  \n",
      "     |  Methods defined here:\n",
      "     |  \n",
      "     |  __init__(self, msg, pattern=None, pos=None)\n",
      "     |      Initialize self.  See help(type(self)) for accurate signature.\n",
      "     |  \n",
      "     |  ----------------------------------------------------------------------\n",
      "     |  Data descriptors defined here:\n",
      "     |  \n",
      "     |  __weakref__\n",
      "     |      list of weak references to the object (if defined)\n",
      "     |  \n",
      "     |  ----------------------------------------------------------------------\n",
      "     |  Static methods inherited from builtins.Exception:\n",
      "     |  \n",
      "     |  __new__(*args, **kwargs) from builtins.type\n",
      "     |      Create and return a new object.  See help(type) for accurate signature.\n",
      "     |  \n",
      "     |  ----------------------------------------------------------------------\n",
      "     |  Methods inherited from builtins.BaseException:\n",
      "     |  \n",
      "     |  __delattr__(self, name, /)\n",
      "     |      Implement delattr(self, name).\n",
      "     |  \n",
      "     |  __getattribute__(self, name, /)\n",
      "     |      Return getattr(self, name).\n",
      "     |  \n",
      "     |  __reduce__(...)\n",
      "     |      Helper for pickle.\n",
      "     |  \n",
      "     |  __repr__(self, /)\n",
      "     |      Return repr(self).\n",
      "     |  \n",
      "     |  __setattr__(self, name, value, /)\n",
      "     |      Implement setattr(self, name, value).\n",
      "     |  \n",
      "     |  __setstate__(...)\n",
      "     |  \n",
      "     |  __str__(self, /)\n",
      "     |      Return str(self).\n",
      "     |  \n",
      "     |  with_traceback(...)\n",
      "     |      Exception.with_traceback(tb) --\n",
      "     |      set self.__traceback__ to tb and return self.\n",
      "     |  \n",
      "     |  ----------------------------------------------------------------------\n",
      "     |  Data descriptors inherited from builtins.BaseException:\n",
      "     |  \n",
      "     |  __cause__\n",
      "     |      exception cause\n",
      "     |  \n",
      "     |  __context__\n",
      "     |      exception context\n",
      "     |  \n",
      "     |  __dict__\n",
      "     |  \n",
      "     |  __suppress_context__\n",
      "     |  \n",
      "     |  __traceback__\n",
      "     |  \n",
      "     |  args\n",
      "\n",
      "FUNCTIONS\n",
      "    compile(pattern, flags=0)\n",
      "        Compile a regular expression pattern, returning a Pattern object.\n",
      "    \n",
      "    escape(pattern)\n",
      "        Escape special characters in a string.\n",
      "    \n",
      "    findall(pattern, string, flags=0)\n",
      "        Return a list of all non-overlapping matches in the string.\n",
      "        \n",
      "        If one or more capturing groups are present in the pattern, return\n",
      "        a list of groups; this will be a list of tuples if the pattern\n",
      "        has more than one group.\n",
      "        \n",
      "        Empty matches are included in the result.\n",
      "    \n",
      "    finditer(pattern, string, flags=0)\n",
      "        Return an iterator over all non-overlapping matches in the\n",
      "        string.  For each match, the iterator returns a Match object.\n",
      "        \n",
      "        Empty matches are included in the result.\n",
      "    \n",
      "    fullmatch(pattern, string, flags=0)\n",
      "        Try to apply the pattern to all of the string, returning\n",
      "        a Match object, or None if no match was found.\n",
      "    \n",
      "    match(pattern, string, flags=0)\n",
      "        Try to apply the pattern at the start of the string, returning\n",
      "        a Match object, or None if no match was found.\n",
      "    \n",
      "    purge()\n",
      "        Clear the regular expression caches\n",
      "    \n",
      "    search(pattern, string, flags=0)\n",
      "        Scan through string looking for a match to the pattern, returning\n",
      "        a Match object, or None if no match was found.\n",
      "    \n",
      "    split(pattern, string, maxsplit=0, flags=0)\n",
      "        Split the source string by the occurrences of the pattern,\n",
      "        returning a list containing the resulting substrings.  If\n",
      "        capturing parentheses are used in pattern, then the text of all\n",
      "        groups in the pattern are also returned as part of the resulting\n",
      "        list.  If maxsplit is nonzero, at most maxsplit splits occur,\n",
      "        and the remainder of the string is returned as the final element\n",
      "        of the list.\n",
      "    \n",
      "    sub(pattern, repl, string, count=0, flags=0)\n",
      "        Return the string obtained by replacing the leftmost\n",
      "        non-overlapping occurrences of the pattern in string by the\n",
      "        replacement repl.  repl can be either a string or a callable;\n",
      "        if a string, backslash escapes in it are processed.  If it is\n",
      "        a callable, it's passed the Match object and must return\n",
      "        a replacement string to be used.\n",
      "    \n",
      "    subn(pattern, repl, string, count=0, flags=0)\n",
      "        Return a 2-tuple containing (new_string, number).\n",
      "        new_string is the string obtained by replacing the leftmost\n",
      "        non-overlapping occurrences of the pattern in the source\n",
      "        string by the replacement repl.  number is the number of\n",
      "        substitutions that were made. repl can be either a string or a\n",
      "        callable; if a string, backslash escapes in it are processed.\n",
      "        If it is a callable, it's passed the Match object and must\n",
      "        return a replacement string to be used.\n",
      "    \n",
      "    template(pattern, flags=0)\n",
      "        Compile a template pattern, returning a Pattern object\n",
      "\n",
      "DATA\n",
      "    A = re.ASCII\n",
      "    ASCII = re.ASCII\n",
      "    DOTALL = re.DOTALL\n",
      "    I = re.IGNORECASE\n",
      "    IGNORECASE = re.IGNORECASE\n",
      "    L = re.LOCALE\n",
      "    LOCALE = re.LOCALE\n",
      "    M = re.MULTILINE\n",
      "    MULTILINE = re.MULTILINE\n",
      "    S = re.DOTALL\n",
      "    U = re.UNICODE\n",
      "    UNICODE = re.UNICODE\n",
      "    VERBOSE = re.VERBOSE\n",
      "    X = re.VERBOSE\n",
      "    __all__ = ['match', 'fullmatch', 'search', 'sub', 'subn', 'split', 'fi...\n",
      "\n",
      "VERSION\n",
      "    2.2.1\n",
      "\n",
      "FILE\n",
      "    /Users/deepakpradhan/opt/anaconda3/envs/ai/lib/python3.8/re.py\n",
      "\n",
      "\n"
     ]
    }
   ],
   "source": [
    "help(re)"
   ]
  },
  {
   "cell_type": "code",
   "execution_count": 3,
   "id": "0cc05fef-4ae7-4002-803d-2505c704d4b7",
   "metadata": {},
   "outputs": [],
   "source": [
    "tweet1 = \"I love ODI. The matches in ODI are fun.\"\n",
    "tweet2 = \"ODI is love. The matches in ODI are fun.\""
   ]
  },
  {
   "cell_type": "code",
   "execution_count": 5,
   "id": "613ceabe-5725-4876-9308-5847d00e0159",
   "metadata": {},
   "outputs": [
    {
     "data": {
      "text/plain": [
       "<re.Match object; span=(7, 10), match='ODI'>"
      ]
     },
     "execution_count": 5,
     "metadata": {},
     "output_type": "execute_result"
    }
   ],
   "source": [
    "c = re.search(\"ODI\", tweet1)\n",
    "c"
   ]
  },
  {
   "cell_type": "code",
   "execution_count": 6,
   "id": "e80b5541-ccc7-4758-873a-8f91b6b8d69e",
   "metadata": {},
   "outputs": [
    {
     "data": {
      "text/plain": [
       "<re.Match object; span=(0, 3), match='ODI'>"
      ]
     },
     "execution_count": 6,
     "metadata": {},
     "output_type": "execute_result"
    }
   ],
   "source": [
    "d = re.search(\"ODI\", tweet2)\n",
    "d"
   ]
  },
  {
   "cell_type": "code",
   "execution_count": 8,
   "id": "79a991ca-5bf0-4c29-b0ba-4980dc37050e",
   "metadata": {},
   "outputs": [
    {
     "data": {
      "text/plain": [
       "['ODI', 'ODI']"
      ]
     },
     "execution_count": 8,
     "metadata": {},
     "output_type": "execute_result"
    }
   ],
   "source": [
    "e = re.findall(\"ODI\", tweet1)\n",
    "e"
   ]
  },
  {
   "cell_type": "code",
   "execution_count": 9,
   "id": "d1ba1fa4-8942-447c-a71b-b6352c019dea",
   "metadata": {},
   "outputs": [
    {
     "data": {
      "text/plain": [
       "'I love IPL. The matches in IPL are fun.'"
      ]
     },
     "execution_count": 9,
     "metadata": {},
     "output_type": "execute_result"
    }
   ],
   "source": [
    "f = re.sub(\"ODI\", \"IPL\", tweet1)\n",
    "f"
   ]
  },
  {
   "cell_type": "code",
   "execution_count": 12,
   "id": "f62e8d1d-203d-4931-a957-f9481fedb688",
   "metadata": {},
   "outputs": [
    {
     "data": {
      "text/plain": [
       "['I love ', '. The matches in ', ' are fun.']"
      ]
     },
     "execution_count": 12,
     "metadata": {},
     "output_type": "execute_result"
    }
   ],
   "source": [
    "g = re.split(\"IPL\", f)\n",
    "g"
   ]
  },
  {
   "cell_type": "code",
   "execution_count": 11,
   "id": "f598a8ce-2bc0-49a7-b4e7-72909d1cb30f",
   "metadata": {},
   "outputs": [
    {
     "data": {
      "text/plain": [
       "['I', 'love', 'ODI.', 'The', 'matches', 'in', 'ODI', 'are', 'fun.']"
      ]
     },
     "execution_count": 11,
     "metadata": {},
     "output_type": "execute_result"
    }
   ],
   "source": [
    "h = re.split(\" \", tweet1)\n",
    "h"
   ]
  },
  {
   "cell_type": "markdown",
   "id": "db6bbb80-bcd9-4442-a400-403e58bb6d44",
   "metadata": {},
   "source": [
    "# Dates"
   ]
  },
  {
   "cell_type": "code",
   "execution_count": 15,
   "id": "dd968f1a-5267-424b-8614-e14aa166b3d8",
   "metadata": {},
   "outputs": [],
   "source": [
    "text=\"This is for the store in Bixby, OK. We ordered the $20 fill up with an extra Mac and cheese. Got home, no biscuits. Instead of of the coleslaw we ordered, we got green beans. I HATE green beans. I called the store immediately and no one would pick up the phone. Literally let it ring until the phone disconnected automatically. After trying to call 3 times I finally called the Customer service number. Filed a complaint. Responded to survey on my receipt and also stated the problem. That was 06/14/2020 and 08-10-2021\""
   ]
  },
  {
   "cell_type": "code",
   "execution_count": 17,
   "id": "f7a50589-73ec-4491-9c01-f09dbb92e77b",
   "metadata": {},
   "outputs": [
    {
     "data": {
      "text/plain": [
       "'This is for the store in Bixby, OK. We ordered the $20 fill up with an extra Mac and cheese. Got home, no biscuits. Instead of of the coleslaw we ordered, we got green beans. I HATE green beans. I called the store immediately and no one would pick up the phone. Literally let it ring until the phone disconnected automatically. After trying to call 3 times I finally called the Customer service number. Filed a complaint. Responded to survey on my receipt and also stated the problem. That was 06/14/2020 and 08-10-2021'"
      ]
     },
     "execution_count": 17,
     "metadata": {},
     "output_type": "execute_result"
    }
   ],
   "source": [
    "text"
   ]
  },
  {
   "cell_type": "code",
   "execution_count": 19,
   "id": "8807e79c-bf29-46be-a5f7-06c6a84b63ca",
   "metadata": {},
   "outputs": [
    {
     "data": {
      "text/plain": [
       "['20', '3', '06', '14', '2020', '08', '10', '2021']"
      ]
     },
     "execution_count": 19,
     "metadata": {},
     "output_type": "execute_result"
    }
   ],
   "source": [
    "re.findall(\"\\d+\",text)"
   ]
  },
  {
   "cell_type": "markdown",
   "id": "16d1472e-1ab9-4219-8060-9cccdac01847",
   "metadata": {},
   "source": [
    "## Pipe Operator \"|\""
   ]
  },
  {
   "cell_type": "code",
   "execution_count": 20,
   "id": "6edb0dc3-676c-4536-a4cc-6685b14e2fa9",
   "metadata": {},
   "outputs": [
    {
     "data": {
      "text/plain": [
       "['06/14/2020', '08-10-2021']"
      ]
     },
     "execution_count": 20,
     "metadata": {},
     "output_type": "execute_result"
    }
   ],
   "source": [
    " re.findall(r'\\b\\d{2}/\\d{2}/\\d{4}\\b|\\b\\d{2}-\\d{2}-\\d{4}\\b', text)"
   ]
  },
  {
   "cell_type": "code",
   "execution_count": 22,
   "id": "375d2880-6906-41eb-b547-c305194b0d69",
   "metadata": {},
   "outputs": [],
   "source": [
    "textx=\"This is for the store in Bixby, OK. We ordered the $20 fill up with an extra Mac and cheese. Got home, no biscuits. Instead of of the coleslaw we ordered, we got green beans. I HATE green beans. I called the store immediately and no one would pick up the phone. Literally let it ring until the phone disconnected automatically. After trying to call 3 times I finally called the Customer service number. Filed a complaint. Responded to survey on my receipt and also stated the problem. That was 06/14/2020 and 8-10-2021\""
   ]
  },
  {
   "cell_type": "code",
   "execution_count": 24,
   "id": "40fc9b93-8336-4b6e-a759-cf3118c6d0ab",
   "metadata": {},
   "outputs": [
    {
     "data": {
      "text/plain": [
       "['06/14/2020', '8-10-2021']"
      ]
     },
     "execution_count": 24,
     "metadata": {},
     "output_type": "execute_result"
    }
   ],
   "source": [
    " re.findall(r'\\b\\d{1,2}/\\d{1,2}/\\d{2,4}\\b|\\b\\d{1,2}-\\d{1,2}-\\d{2,4}\\b', textx)"
   ]
  },
  {
   "cell_type": "code",
   "execution_count": 25,
   "id": "ee0b677b-1c0e-4e73-9957-5fb5b691e8fb",
   "metadata": {},
   "outputs": [],
   "source": [
    "text1 = \"burger is #good and #tasty #ur12 ok @deepak @kfc\""
   ]
  },
  {
   "cell_type": "code",
   "execution_count": 26,
   "id": "71480156-efbb-4554-bd1a-02c75c6e54e9",
   "metadata": {},
   "outputs": [
    {
     "data": {
      "text/plain": [
       "['#good', '#tasty', '#ur12']"
      ]
     },
     "execution_count": 26,
     "metadata": {},
     "output_type": "execute_result"
    }
   ],
   "source": [
    "re.findall(r'#\\w+', text1)"
   ]
  },
  {
   "cell_type": "code",
   "execution_count": 27,
   "id": "dedfcdd0-3cd2-480e-914e-4ec11f34c8a8",
   "metadata": {},
   "outputs": [
    {
     "data": {
      "text/plain": [
       "['#good', '#tasty', '#ur12']"
      ]
     },
     "execution_count": 27,
     "metadata": {},
     "output_type": "execute_result"
    }
   ],
   "source": [
    "re.findall(\"#+[a-z0-9]*\",text1)"
   ]
  },
  {
   "cell_type": "code",
   "execution_count": 28,
   "id": "6e5a7d90-e46a-485f-8959-b718da3933ab",
   "metadata": {},
   "outputs": [
    {
     "data": {
      "text/plain": [
       "['@deepak', '@kfc']"
      ]
     },
     "execution_count": 28,
     "metadata": {},
     "output_type": "execute_result"
    }
   ],
   "source": [
    "re.findall(r'@\\w+', text1)"
   ]
  },
  {
   "cell_type": "code",
   "execution_count": 29,
   "id": "f94986ee-d72f-4b94-bc99-eb87fcd8bac2",
   "metadata": {},
   "outputs": [
    {
     "data": {
      "text/plain": [
       "['#good', '#tasty', '#ur12']"
      ]
     },
     "execution_count": 29,
     "metadata": {},
     "output_type": "execute_result"
    }
   ],
   "source": [
    "re.findall('#[A-z0-9]+', text1)"
   ]
  },
  {
   "cell_type": "code",
   "execution_count": 30,
   "id": "495d760f-bc0b-450d-92c3-0b189cd3b413",
   "metadata": {},
   "outputs": [
    {
     "data": {
      "text/plain": [
       "['@deepak', '@kfc']"
      ]
     },
     "execution_count": 30,
     "metadata": {},
     "output_type": "execute_result"
    }
   ],
   "source": [
    "re.findall('@[A-z0-9]+', text1)"
   ]
  },
  {
   "cell_type": "code",
   "execution_count": 31,
   "id": "1d74d812-586b-4e1a-b367-4f5d29628943",
   "metadata": {},
   "outputs": [
    {
     "data": {
      "text/plain": [
       "['#good', '#tasty', '#ur12', '@deepak', '@kfc']"
      ]
     },
     "execution_count": 31,
     "metadata": {},
     "output_type": "execute_result"
    }
   ],
   "source": [
    "re.findall('[#@][A-z0-9]+', text1)"
   ]
  },
  {
   "cell_type": "code",
   "execution_count": 32,
   "id": "e5f776cb-d239-4478-94b4-d0ce579664a4",
   "metadata": {},
   "outputs": [
    {
     "data": {
      "text/plain": [
       "['#good', '#tasty', '#ur12', '@deepak', '@kfc']"
      ]
     },
     "execution_count": 32,
     "metadata": {},
     "output_type": "execute_result"
    }
   ],
   "source": [
    "re.findall('[#@]\\w+', text1)"
   ]
  },
  {
   "cell_type": "markdown",
   "id": "98592095-a48e-480c-ad06-f62af9f250df",
   "metadata": {},
   "source": [
    "# Negation"
   ]
  },
  {
   "cell_type": "code",
   "execution_count": 33,
   "id": "0123713e-af2f-46ca-9ea9-cf859e348a0c",
   "metadata": {},
   "outputs": [
    {
     "data": {
      "text/plain": [
       "'The Official Tweet of the Chennai Super Kings Lion face #WhistlePodu #விசில்போடு #YelloveYellow heart'"
      ]
     },
     "execution_count": 33,
     "metadata": {},
     "output_type": "execute_result"
    }
   ],
   "source": [
    "tweet3=\"The Official Tweet of the Chennai Super Kings Lion face #WhistlePodu #விசில்போடு #YelloveYellow heart\"\n",
    "tweet3"
   ]
  },
  {
   "cell_type": "code",
   "execution_count": 34,
   "id": "0d4e903c-8903-44e0-9786-d0de3e37c349",
   "metadata": {},
   "outputs": [
    {
     "data": {
      "text/plain": [
       "['The',\n",
       " 'Official',\n",
       " 'Tweet',\n",
       " 'of',\n",
       " 'the',\n",
       " 'Chennai',\n",
       " 'Super',\n",
       " 'Kings',\n",
       " 'Lion',\n",
       " 'face',\n",
       " '#WhistlePodu',\n",
       " '#',\n",
       " '#YelloveYellow',\n",
       " 'heart']"
      ]
     },
     "execution_count": 34,
     "metadata": {},
     "output_type": "execute_result"
    }
   ],
   "source": [
    "re.findall(\"[A-z0-9#]+\", tweet3)"
   ]
  },
  {
   "cell_type": "code",
   "execution_count": 35,
   "id": "72a92992-8d8d-456d-95af-7e2dd810ad67",
   "metadata": {},
   "outputs": [
    {
     "data": {
      "text/plain": [
       "[' ', ' ', ' ', ' ', ' ', ' ', ' ', ' ', ' ', ' ', ' ', 'விசில்போடு ', ' ']"
      ]
     },
     "execution_count": 35,
     "metadata": {},
     "output_type": "execute_result"
    }
   ],
   "source": [
    "re.findall(\"[^A-z0-9#]+\", tweet3)"
   ]
  },
  {
   "cell_type": "code",
   "execution_count": 36,
   "id": "d9f222f1-ed53-4acc-b064-b19828047867",
   "metadata": {},
   "outputs": [
    {
     "data": {
      "text/plain": [
       "['விசில்போடு']"
      ]
     },
     "execution_count": 36,
     "metadata": {},
     "output_type": "execute_result"
    }
   ],
   "source": [
    "re.findall(\"[^A-z0-9# ]+\", tweet3)"
   ]
  },
  {
   "cell_type": "code",
   "execution_count": 37,
   "id": "47616420-f3c8-4382-8450-24f808fce3d2",
   "metadata": {},
   "outputs": [
    {
     "data": {
      "text/plain": [
       "'The Official Tweet of the Chennai Super Kings Lion face #WhistlePodu # #YelloveYellow heart'"
      ]
     },
     "execution_count": 37,
     "metadata": {},
     "output_type": "execute_result"
    }
   ],
   "source": [
    "# Removing the non english text from tweet3\n",
    "re.sub(\"[^A-z0-9# ]+\", \"\", tweet3)\n"
   ]
  },
  {
   "cell_type": "code",
   "execution_count": 38,
   "id": "7c5191ef-8b7c-41e4-a9c0-266cfbf88839",
   "metadata": {},
   "outputs": [
    {
     "data": {
      "text/plain": [
       "'TheOfficialTweetoftheChennaiSuperKingsLionfaceWhistlePoduYelloveYellowheart'"
      ]
     },
     "execution_count": 38,
     "metadata": {},
     "output_type": "execute_result"
    }
   ],
   "source": [
    "# re.sub(r'[^A-Za-z]+ ', '', tweet3) <<"
   ]
  },
  {
   "cell_type": "markdown",
   "id": "8e195519-add0-40ad-aaea-4225215c760f",
   "metadata": {},
   "source": [
    "# Match of the start of Line ^ and End of line $"
   ]
  },
  {
   "cell_type": "code",
   "execution_count": 39,
   "id": "ed18310e-a9a4-429a-9c0c-017709a6a9b4",
   "metadata": {},
   "outputs": [],
   "source": [
    "tweet4 = \"python is fun and python is cool\""
   ]
  },
  {
   "cell_type": "code",
   "execution_count": 40,
   "id": "6a845141-dc8a-4286-885a-f72275adf28b",
   "metadata": {},
   "outputs": [
    {
     "data": {
      "text/plain": [
       "['python', 'python']"
      ]
     },
     "execution_count": 40,
     "metadata": {},
     "output_type": "execute_result"
    }
   ],
   "source": [
    "re.findall(\"python\", tweet4)"
   ]
  },
  {
   "cell_type": "code",
   "execution_count": 41,
   "id": "8044d660-81f9-4222-96d5-db8720f05cd4",
   "metadata": {},
   "outputs": [
    {
     "data": {
      "text/plain": [
       "['python']"
      ]
     },
     "execution_count": 41,
     "metadata": {},
     "output_type": "execute_result"
    }
   ],
   "source": [
    "re.findall(\"^python\", tweet4)"
   ]
  },
  {
   "cell_type": "code",
   "execution_count": 42,
   "id": "baa374b7-aa7d-49e0-bd60-635c5a870835",
   "metadata": {},
   "outputs": [
    {
     "data": {
      "text/plain": [
       "[]"
      ]
     },
     "execution_count": 42,
     "metadata": {},
     "output_type": "execute_result"
    }
   ],
   "source": [
    "re.findall(\"^fun\", tweet4)"
   ]
  },
  {
   "cell_type": "code",
   "execution_count": 43,
   "id": "c19fd84e-7be2-4dc2-a45c-2a5b3bbe9549",
   "metadata": {},
   "outputs": [
    {
     "data": {
      "text/plain": [
       "[]"
      ]
     },
     "execution_count": 43,
     "metadata": {},
     "output_type": "execute_result"
    }
   ],
   "source": [
    "re.findall(\"fun$\", tweet4)"
   ]
  },
  {
   "cell_type": "code",
   "execution_count": 44,
   "id": "c82f9554-62f1-45d3-9c5d-7ee1eafadb3a",
   "metadata": {},
   "outputs": [
    {
     "data": {
      "text/plain": [
       "['cool']"
      ]
     },
     "execution_count": 44,
     "metadata": {},
     "output_type": "execute_result"
    }
   ],
   "source": [
    "re.findall(\"cool$\", tweet4)"
   ]
  },
  {
   "cell_type": "code",
   "execution_count": 47,
   "id": "669038df-a794-465e-a636-eb4b5c4cade2",
   "metadata": {},
   "outputs": [
    {
     "data": {
      "text/plain": [
       "['python is fun and python is cool']"
      ]
     },
     "execution_count": 47,
     "metadata": {},
     "output_type": "execute_result"
    }
   ],
   "source": [
    "re.findall(\"^python.*cool$\", tweet4)"
   ]
  },
  {
   "cell_type": "code",
   "execution_count": 48,
   "id": "779bf99c-25a6-4e7d-8197-63c4698d346a",
   "metadata": {},
   "outputs": [
    {
     "data": {
      "text/plain": [
       "['python is fun and python is cool']"
      ]
     },
     "execution_count": 48,
     "metadata": {},
     "output_type": "execute_result"
    }
   ],
   "source": [
    "re.findall(\"^python.+cool$\", tweet4)"
   ]
  },
  {
   "cell_type": "code",
   "execution_count": 45,
   "id": "894dc408-9350-4313-855c-6359e5fa8fb8",
   "metadata": {
    "collapsed": true,
    "jupyter": {
     "outputs_hidden": true
    },
    "tags": []
   },
   "outputs": [
    {
     "name": "stdout",
     "output_type": "stream",
     "text": [
      "Help on module re:\n",
      "\n",
      "NAME\n",
      "    re - Support for regular expressions (RE).\n",
      "\n",
      "MODULE REFERENCE\n",
      "    https://docs.python.org/3.8/library/re\n",
      "    \n",
      "    The following documentation is automatically generated from the Python\n",
      "    source files.  It may be incomplete, incorrect or include features that\n",
      "    are considered implementation detail and may vary between Python\n",
      "    implementations.  When in doubt, consult the module reference at the\n",
      "    location listed above.\n",
      "\n",
      "DESCRIPTION\n",
      "    This module provides regular expression matching operations similar to\n",
      "    those found in Perl.  It supports both 8-bit and Unicode strings; both\n",
      "    the pattern and the strings being processed can contain null bytes and\n",
      "    characters outside the US ASCII range.\n",
      "    \n",
      "    Regular expressions can contain both special and ordinary characters.\n",
      "    Most ordinary characters, like \"A\", \"a\", or \"0\", are the simplest\n",
      "    regular expressions; they simply match themselves.  You can\n",
      "    concatenate ordinary characters, so last matches the string 'last'.\n",
      "    \n",
      "    The special characters are:\n",
      "        \".\"      Matches any character except a newline.\n",
      "        \"^\"      Matches the start of the string.\n",
      "        \"$\"      Matches the end of the string or just before the newline at\n",
      "                 the end of the string.\n",
      "        \"*\"      Matches 0 or more (greedy) repetitions of the preceding RE.\n",
      "                 Greedy means that it will match as many repetitions as possible.\n",
      "        \"+\"      Matches 1 or more (greedy) repetitions of the preceding RE.\n",
      "        \"?\"      Matches 0 or 1 (greedy) of the preceding RE.\n",
      "        *?,+?,?? Non-greedy versions of the previous three special characters.\n",
      "        {m,n}    Matches from m to n repetitions of the preceding RE.\n",
      "        {m,n}?   Non-greedy version of the above.\n",
      "        \"\\\\\"     Either escapes special characters or signals a special sequence.\n",
      "        []       Indicates a set of characters.\n",
      "                 A \"^\" as the first character indicates a complementing set.\n",
      "        \"|\"      A|B, creates an RE that will match either A or B.\n",
      "        (...)    Matches the RE inside the parentheses.\n",
      "                 The contents can be retrieved or matched later in the string.\n",
      "        (?aiLmsux) The letters set the corresponding flags defined below.\n",
      "        (?:...)  Non-grouping version of regular parentheses.\n",
      "        (?P<name>...) The substring matched by the group is accessible by name.\n",
      "        (?P=name)     Matches the text matched earlier by the group named name.\n",
      "        (?#...)  A comment; ignored.\n",
      "        (?=...)  Matches if ... matches next, but doesn't consume the string.\n",
      "        (?!...)  Matches if ... doesn't match next.\n",
      "        (?<=...) Matches if preceded by ... (must be fixed length).\n",
      "        (?<!...) Matches if not preceded by ... (must be fixed length).\n",
      "        (?(id/name)yes|no) Matches yes pattern if the group with id/name matched,\n",
      "                           the (optional) no pattern otherwise.\n",
      "    \n",
      "    The special sequences consist of \"\\\\\" and a character from the list\n",
      "    below.  If the ordinary character is not on the list, then the\n",
      "    resulting RE will match the second character.\n",
      "        \\number  Matches the contents of the group of the same number.\n",
      "        \\A       Matches only at the start of the string.\n",
      "        \\Z       Matches only at the end of the string.\n",
      "        \\b       Matches the empty string, but only at the start or end of a word.\n",
      "        \\B       Matches the empty string, but not at the start or end of a word.\n",
      "        \\d       Matches any decimal digit; equivalent to the set [0-9] in\n",
      "                 bytes patterns or string patterns with the ASCII flag.\n",
      "                 In string patterns without the ASCII flag, it will match the whole\n",
      "                 range of Unicode digits.\n",
      "        \\D       Matches any non-digit character; equivalent to [^\\d].\n",
      "        \\s       Matches any whitespace character; equivalent to [ \\t\\n\\r\\f\\v] in\n",
      "                 bytes patterns or string patterns with the ASCII flag.\n",
      "                 In string patterns without the ASCII flag, it will match the whole\n",
      "                 range of Unicode whitespace characters.\n",
      "        \\S       Matches any non-whitespace character; equivalent to [^\\s].\n",
      "        \\w       Matches any alphanumeric character; equivalent to [a-zA-Z0-9_]\n",
      "                 in bytes patterns or string patterns with the ASCII flag.\n",
      "                 In string patterns without the ASCII flag, it will match the\n",
      "                 range of Unicode alphanumeric characters (letters plus digits\n",
      "                 plus underscore).\n",
      "                 With LOCALE, it will match the set [0-9_] plus characters defined\n",
      "                 as letters for the current locale.\n",
      "        \\W       Matches the complement of \\w.\n",
      "        \\\\       Matches a literal backslash.\n",
      "    \n",
      "    This module exports the following functions:\n",
      "        match     Match a regular expression pattern to the beginning of a string.\n",
      "        fullmatch Match a regular expression pattern to all of a string.\n",
      "        search    Search a string for the presence of a pattern.\n",
      "        sub       Substitute occurrences of a pattern found in a string.\n",
      "        subn      Same as sub, but also return the number of substitutions made.\n",
      "        split     Split a string by the occurrences of a pattern.\n",
      "        findall   Find all occurrences of a pattern in a string.\n",
      "        finditer  Return an iterator yielding a Match object for each match.\n",
      "        compile   Compile a pattern into a Pattern object.\n",
      "        purge     Clear the regular expression cache.\n",
      "        escape    Backslash all non-alphanumerics in a string.\n",
      "    \n",
      "    Each function other than purge and escape can take an optional 'flags' argument\n",
      "    consisting of one or more of the following module constants, joined by \"|\".\n",
      "    A, L, and U are mutually exclusive.\n",
      "        A  ASCII       For string patterns, make \\w, \\W, \\b, \\B, \\d, \\D\n",
      "                       match the corresponding ASCII character categories\n",
      "                       (rather than the whole Unicode categories, which is the\n",
      "                       default).\n",
      "                       For bytes patterns, this flag is the only available\n",
      "                       behaviour and needn't be specified.\n",
      "        I  IGNORECASE  Perform case-insensitive matching.\n",
      "        L  LOCALE      Make \\w, \\W, \\b, \\B, dependent on the current locale.\n",
      "        M  MULTILINE   \"^\" matches the beginning of lines (after a newline)\n",
      "                       as well as the string.\n",
      "                       \"$\" matches the end of lines (before a newline) as well\n",
      "                       as the end of the string.\n",
      "        S  DOTALL      \".\" matches any character at all, including the newline.\n",
      "        X  VERBOSE     Ignore whitespace and comments for nicer looking RE's.\n",
      "        U  UNICODE     For compatibility only. Ignored for string patterns (it\n",
      "                       is the default), and forbidden for bytes patterns.\n",
      "    \n",
      "    This module also defines an exception 'error'.\n",
      "\n",
      "CLASSES\n",
      "    builtins.Exception(builtins.BaseException)\n",
      "        error\n",
      "    builtins.object\n",
      "        Match\n",
      "        Pattern\n",
      "    \n",
      "    class Match(builtins.object)\n",
      "     |  The result of re.match() and re.search().\n",
      "     |  Match objects always have a boolean value of True.\n",
      "     |  \n",
      "     |  Methods defined here:\n",
      "     |  \n",
      "     |  __copy__(self, /)\n",
      "     |  \n",
      "     |  __deepcopy__(self, memo, /)\n",
      "     |  \n",
      "     |  __getitem__(self, key, /)\n",
      "     |      Return self[key].\n",
      "     |  \n",
      "     |  __repr__(self, /)\n",
      "     |      Return repr(self).\n",
      "     |  \n",
      "     |  end(self, group=0, /)\n",
      "     |      Return index of the end of the substring matched by group.\n",
      "     |  \n",
      "     |  expand(self, /, template)\n",
      "     |      Return the string obtained by doing backslash substitution on the string template, as done by the sub() method.\n",
      "     |  \n",
      "     |  group(...)\n",
      "     |      group([group1, ...]) -> str or tuple.\n",
      "     |      Return subgroup(s) of the match by indices or names.\n",
      "     |      For 0 returns the entire match.\n",
      "     |  \n",
      "     |  groupdict(self, /, default=None)\n",
      "     |      Return a dictionary containing all the named subgroups of the match, keyed by the subgroup name.\n",
      "     |      \n",
      "     |      default\n",
      "     |        Is used for groups that did not participate in the match.\n",
      "     |  \n",
      "     |  groups(self, /, default=None)\n",
      "     |      Return a tuple containing all the subgroups of the match, from 1.\n",
      "     |      \n",
      "     |      default\n",
      "     |        Is used for groups that did not participate in the match.\n",
      "     |  \n",
      "     |  span(self, group=0, /)\n",
      "     |      For match object m, return the 2-tuple (m.start(group), m.end(group)).\n",
      "     |  \n",
      "     |  start(self, group=0, /)\n",
      "     |      Return index of the start of the substring matched by group.\n",
      "     |  \n",
      "     |  ----------------------------------------------------------------------\n",
      "     |  Data descriptors defined here:\n",
      "     |  \n",
      "     |  endpos\n",
      "     |      The index into the string beyond which the RE engine will not go.\n",
      "     |  \n",
      "     |  lastgroup\n",
      "     |      The name of the last matched capturing group.\n",
      "     |  \n",
      "     |  lastindex\n",
      "     |      The integer index of the last matched capturing group.\n",
      "     |  \n",
      "     |  pos\n",
      "     |      The index into the string at which the RE engine started looking for a match.\n",
      "     |  \n",
      "     |  re\n",
      "     |      The regular expression object.\n",
      "     |  \n",
      "     |  regs\n",
      "     |  \n",
      "     |  string\n",
      "     |      The string passed to match() or search().\n",
      "    \n",
      "    class Pattern(builtins.object)\n",
      "     |  Compiled regular expression object.\n",
      "     |  \n",
      "     |  Methods defined here:\n",
      "     |  \n",
      "     |  __copy__(self, /)\n",
      "     |  \n",
      "     |  __deepcopy__(self, memo, /)\n",
      "     |  \n",
      "     |  __eq__(self, value, /)\n",
      "     |      Return self==value.\n",
      "     |  \n",
      "     |  __ge__(self, value, /)\n",
      "     |      Return self>=value.\n",
      "     |  \n",
      "     |  __gt__(self, value, /)\n",
      "     |      Return self>value.\n",
      "     |  \n",
      "     |  __hash__(self, /)\n",
      "     |      Return hash(self).\n",
      "     |  \n",
      "     |  __le__(self, value, /)\n",
      "     |      Return self<=value.\n",
      "     |  \n",
      "     |  __lt__(self, value, /)\n",
      "     |      Return self<value.\n",
      "     |  \n",
      "     |  __ne__(self, value, /)\n",
      "     |      Return self!=value.\n",
      "     |  \n",
      "     |  __repr__(self, /)\n",
      "     |      Return repr(self).\n",
      "     |  \n",
      "     |  findall(self, /, string, pos=0, endpos=9223372036854775807)\n",
      "     |      Return a list of all non-overlapping matches of pattern in string.\n",
      "     |  \n",
      "     |  finditer(self, /, string, pos=0, endpos=9223372036854775807)\n",
      "     |      Return an iterator over all non-overlapping matches for the RE pattern in string.\n",
      "     |      \n",
      "     |      For each match, the iterator returns a match object.\n",
      "     |  \n",
      "     |  fullmatch(self, /, string, pos=0, endpos=9223372036854775807)\n",
      "     |      Matches against all of the string.\n",
      "     |  \n",
      "     |  match(self, /, string, pos=0, endpos=9223372036854775807)\n",
      "     |      Matches zero or more characters at the beginning of the string.\n",
      "     |  \n",
      "     |  scanner(self, /, string, pos=0, endpos=9223372036854775807)\n",
      "     |  \n",
      "     |  search(self, /, string, pos=0, endpos=9223372036854775807)\n",
      "     |      Scan through string looking for a match, and return a corresponding match object instance.\n",
      "     |      \n",
      "     |      Return None if no position in the string matches.\n",
      "     |  \n",
      "     |  split(self, /, string, maxsplit=0)\n",
      "     |      Split string by the occurrences of pattern.\n",
      "     |  \n",
      "     |  sub(self, /, repl, string, count=0)\n",
      "     |      Return the string obtained by replacing the leftmost non-overlapping occurrences of pattern in string by the replacement repl.\n",
      "     |  \n",
      "     |  subn(self, /, repl, string, count=0)\n",
      "     |      Return the tuple (new_string, number_of_subs_made) found by replacing the leftmost non-overlapping occurrences of pattern with the replacement repl.\n",
      "     |  \n",
      "     |  ----------------------------------------------------------------------\n",
      "     |  Data descriptors defined here:\n",
      "     |  \n",
      "     |  flags\n",
      "     |      The regex matching flags.\n",
      "     |  \n",
      "     |  groupindex\n",
      "     |      A dictionary mapping group names to group numbers.\n",
      "     |  \n",
      "     |  groups\n",
      "     |      The number of capturing groups in the pattern.\n",
      "     |  \n",
      "     |  pattern\n",
      "     |      The pattern string from which the RE object was compiled.\n",
      "    \n",
      "    class error(builtins.Exception)\n",
      "     |  error(msg, pattern=None, pos=None)\n",
      "     |  \n",
      "     |  Exception raised for invalid regular expressions.\n",
      "     |  \n",
      "     |  Attributes:\n",
      "     |  \n",
      "     |      msg: The unformatted error message\n",
      "     |      pattern: The regular expression pattern\n",
      "     |      pos: The index in the pattern where compilation failed (may be None)\n",
      "     |      lineno: The line corresponding to pos (may be None)\n",
      "     |      colno: The column corresponding to pos (may be None)\n",
      "     |  \n",
      "     |  Method resolution order:\n",
      "     |      error\n",
      "     |      builtins.Exception\n",
      "     |      builtins.BaseException\n",
      "     |      builtins.object\n",
      "     |  \n",
      "     |  Methods defined here:\n",
      "     |  \n",
      "     |  __init__(self, msg, pattern=None, pos=None)\n",
      "     |      Initialize self.  See help(type(self)) for accurate signature.\n",
      "     |  \n",
      "     |  ----------------------------------------------------------------------\n",
      "     |  Data descriptors defined here:\n",
      "     |  \n",
      "     |  __weakref__\n",
      "     |      list of weak references to the object (if defined)\n",
      "     |  \n",
      "     |  ----------------------------------------------------------------------\n",
      "     |  Static methods inherited from builtins.Exception:\n",
      "     |  \n",
      "     |  __new__(*args, **kwargs) from builtins.type\n",
      "     |      Create and return a new object.  See help(type) for accurate signature.\n",
      "     |  \n",
      "     |  ----------------------------------------------------------------------\n",
      "     |  Methods inherited from builtins.BaseException:\n",
      "     |  \n",
      "     |  __delattr__(self, name, /)\n",
      "     |      Implement delattr(self, name).\n",
      "     |  \n",
      "     |  __getattribute__(self, name, /)\n",
      "     |      Return getattr(self, name).\n",
      "     |  \n",
      "     |  __reduce__(...)\n",
      "     |      Helper for pickle.\n",
      "     |  \n",
      "     |  __repr__(self, /)\n",
      "     |      Return repr(self).\n",
      "     |  \n",
      "     |  __setattr__(self, name, value, /)\n",
      "     |      Implement setattr(self, name, value).\n",
      "     |  \n",
      "     |  __setstate__(...)\n",
      "     |  \n",
      "     |  __str__(self, /)\n",
      "     |      Return str(self).\n",
      "     |  \n",
      "     |  with_traceback(...)\n",
      "     |      Exception.with_traceback(tb) --\n",
      "     |      set self.__traceback__ to tb and return self.\n",
      "     |  \n",
      "     |  ----------------------------------------------------------------------\n",
      "     |  Data descriptors inherited from builtins.BaseException:\n",
      "     |  \n",
      "     |  __cause__\n",
      "     |      exception cause\n",
      "     |  \n",
      "     |  __context__\n",
      "     |      exception context\n",
      "     |  \n",
      "     |  __dict__\n",
      "     |  \n",
      "     |  __suppress_context__\n",
      "     |  \n",
      "     |  __traceback__\n",
      "     |  \n",
      "     |  args\n",
      "\n",
      "FUNCTIONS\n",
      "    compile(pattern, flags=0)\n",
      "        Compile a regular expression pattern, returning a Pattern object.\n",
      "    \n",
      "    escape(pattern)\n",
      "        Escape special characters in a string.\n",
      "    \n",
      "    findall(pattern, string, flags=0)\n",
      "        Return a list of all non-overlapping matches in the string.\n",
      "        \n",
      "        If one or more capturing groups are present in the pattern, return\n",
      "        a list of groups; this will be a list of tuples if the pattern\n",
      "        has more than one group.\n",
      "        \n",
      "        Empty matches are included in the result.\n",
      "    \n",
      "    finditer(pattern, string, flags=0)\n",
      "        Return an iterator over all non-overlapping matches in the\n",
      "        string.  For each match, the iterator returns a Match object.\n",
      "        \n",
      "        Empty matches are included in the result.\n",
      "    \n",
      "    fullmatch(pattern, string, flags=0)\n",
      "        Try to apply the pattern to all of the string, returning\n",
      "        a Match object, or None if no match was found.\n",
      "    \n",
      "    match(pattern, string, flags=0)\n",
      "        Try to apply the pattern at the start of the string, returning\n",
      "        a Match object, or None if no match was found.\n",
      "    \n",
      "    purge()\n",
      "        Clear the regular expression caches\n",
      "    \n",
      "    search(pattern, string, flags=0)\n",
      "        Scan through string looking for a match to the pattern, returning\n",
      "        a Match object, or None if no match was found.\n",
      "    \n",
      "    split(pattern, string, maxsplit=0, flags=0)\n",
      "        Split the source string by the occurrences of the pattern,\n",
      "        returning a list containing the resulting substrings.  If\n",
      "        capturing parentheses are used in pattern, then the text of all\n",
      "        groups in the pattern are also returned as part of the resulting\n",
      "        list.  If maxsplit is nonzero, at most maxsplit splits occur,\n",
      "        and the remainder of the string is returned as the final element\n",
      "        of the list.\n",
      "    \n",
      "    sub(pattern, repl, string, count=0, flags=0)\n",
      "        Return the string obtained by replacing the leftmost\n",
      "        non-overlapping occurrences of the pattern in string by the\n",
      "        replacement repl.  repl can be either a string or a callable;\n",
      "        if a string, backslash escapes in it are processed.  If it is\n",
      "        a callable, it's passed the Match object and must return\n",
      "        a replacement string to be used.\n",
      "    \n",
      "    subn(pattern, repl, string, count=0, flags=0)\n",
      "        Return a 2-tuple containing (new_string, number).\n",
      "        new_string is the string obtained by replacing the leftmost\n",
      "        non-overlapping occurrences of the pattern in the source\n",
      "        string by the replacement repl.  number is the number of\n",
      "        substitutions that were made. repl can be either a string or a\n",
      "        callable; if a string, backslash escapes in it are processed.\n",
      "        If it is a callable, it's passed the Match object and must\n",
      "        return a replacement string to be used.\n",
      "    \n",
      "    template(pattern, flags=0)\n",
      "        Compile a template pattern, returning a Pattern object\n",
      "\n",
      "DATA\n",
      "    A = re.ASCII\n",
      "    ASCII = re.ASCII\n",
      "    DOTALL = re.DOTALL\n",
      "    I = re.IGNORECASE\n",
      "    IGNORECASE = re.IGNORECASE\n",
      "    L = re.LOCALE\n",
      "    LOCALE = re.LOCALE\n",
      "    M = re.MULTILINE\n",
      "    MULTILINE = re.MULTILINE\n",
      "    S = re.DOTALL\n",
      "    U = re.UNICODE\n",
      "    UNICODE = re.UNICODE\n",
      "    VERBOSE = re.VERBOSE\n",
      "    X = re.VERBOSE\n",
      "    __all__ = ['match', 'fullmatch', 'search', 'sub', 'subn', 'split', 'fi...\n",
      "\n",
      "VERSION\n",
      "    2.2.1\n",
      "\n",
      "FILE\n",
      "    /Users/deepakpradhan/opt/anaconda3/envs/ai/lib/python3.8/re.py\n",
      "\n",
      "\n"
     ]
    }
   ],
   "source": [
    "help(re)"
   ]
  },
  {
   "cell_type": "code",
   "execution_count": 63,
   "id": "d0003e3b-8663-4e55-b43e-edffc49f4cb4",
   "metadata": {},
   "outputs": [],
   "source": [
    "tweetx = \"pythonXYXcool\""
   ]
  },
  {
   "cell_type": "code",
   "execution_count": 65,
   "id": "9496f45a-53ff-41d1-9e64-b68db9e7a76d",
   "metadata": {},
   "outputs": [
    {
     "data": {
      "text/plain": [
       "['pythonXYXcool']"
      ]
     },
     "execution_count": 65,
     "metadata": {},
     "output_type": "execute_result"
    }
   ],
   "source": [
    "re.findall(\"^python...cool$\", tweetx)"
   ]
  },
  {
   "cell_type": "code",
   "execution_count": 66,
   "id": "dc8c37e4-31f6-4751-8e35-f9b631ad87f9",
   "metadata": {},
   "outputs": [
    {
     "data": {
      "text/plain": [
       "['python is fun and python is cool']"
      ]
     },
     "execution_count": 66,
     "metadata": {},
     "output_type": "execute_result"
    }
   ],
   "source": [
    "re.findall(\"^python.*cool$\", tweet4)"
   ]
  },
  {
   "cell_type": "code",
   "execution_count": 67,
   "id": "7a707547-2591-4d11-9a49-bf4a3d72fed3",
   "metadata": {},
   "outputs": [],
   "source": [
    "tweet5 = \"\"\"Allu Sneha mam (wife of #AlluArjun ) watches #KGFChapter2 today🤩❤️ Pic : Insta story!! ❤️ #KGF2 \n",
    "@TheNameIsYash\n",
    " 🤝 \n",
    "@alluarjun\n",
    " #PushpaTheRule\"\"\""
   ]
  },
  {
   "cell_type": "code",
   "execution_count": 69,
   "id": "b1534e4f-97da-4969-864e-9b6efa3ecffc",
   "metadata": {},
   "outputs": [
    {
     "name": "stdout",
     "output_type": "stream",
     "text": [
      "Requirement already satisfied: emojis in /Users/deepakpradhan/opt/anaconda3/envs/ai/lib/python3.8/site-packages (0.7.0)\n"
     ]
    }
   ],
   "source": [
    "!pip install emojis"
   ]
  },
  {
   "cell_type": "code",
   "execution_count": 68,
   "id": "dfc2e412-3af5-404c-b351-70b76c36e38f",
   "metadata": {},
   "outputs": [],
   "source": [
    "# Extract emoji\n",
    "import emojis"
   ]
  },
  {
   "cell_type": "code",
   "execution_count": 70,
   "id": "c7f02c9c-5e4b-41c9-9960-385cc7aee783",
   "metadata": {},
   "outputs": [
    {
     "data": {
      "text/plain": [
       "['🤩❤️', '❤️', '🤝']"
      ]
     },
     "execution_count": 70,
     "metadata": {},
     "output_type": "execute_result"
    }
   ],
   "source": [
    "re.findall(\"[^A-z0-9#+\\n+@+(+)+:+!! ]+\",tweet5)"
   ]
  },
  {
   "cell_type": "code",
   "execution_count": 71,
   "id": "29d77622-a30a-467d-9be5-3e050efe9542",
   "metadata": {},
   "outputs": [
    {
     "data": {
      "text/plain": [
       "{'❤️', '🤝', '🤩'}"
      ]
     },
     "execution_count": 71,
     "metadata": {},
     "output_type": "execute_result"
    }
   ],
   "source": [
    "emojis.get(tweet5)"
   ]
  },
  {
   "cell_type": "markdown",
   "id": "ccca8006-0fca-49b5-af7e-c8d29a302252",
   "metadata": {},
   "source": [
    "## Capturing & Non-Capturing Groups\n"
   ]
  },
  {
   "cell_type": "code",
   "execution_count": 73,
   "id": "a8bca1c7-989c-42bc-8e26-5c7d3be3d97a",
   "metadata": {},
   "outputs": [],
   "source": [
    "text2=\"First date is June 24, Second date is August 9,Third date is Dec 12\""
   ]
  },
  {
   "cell_type": "code",
   "execution_count": 75,
   "id": "e1562332-06d1-42e7-87fb-0b9c00ffd93c",
   "metadata": {},
   "outputs": [
    {
     "data": {
      "text/plain": [
       "['June 24', 'August 9', 'Dec 12']"
      ]
     },
     "execution_count": 75,
     "metadata": {},
     "output_type": "execute_result"
    }
   ],
   "source": [
    "regex = \"[A-z]+\\s\\d+\"\n",
    "re.findall(regex, text2)"
   ]
  },
  {
   "cell_type": "code",
   "execution_count": 76,
   "id": "2f1cf479-5317-4322-8004-2d2818eeb4ec",
   "metadata": {},
   "outputs": [
    {
     "data": {
      "text/plain": [
       "[('June', '24'), ('August', '9'), ('Dec', '12')]"
      ]
     },
     "execution_count": 76,
     "metadata": {},
     "output_type": "execute_result"
    }
   ],
   "source": [
    "#Capturing Groups\n",
    "# () <---- for capturing groups\n",
    "# To capture specific months of each date which is proviided, along with the asssokciation of date so that we can know wich date associatied with which month\n",
    "\n",
    "regex = \"([A-z]+)\\s(\\d+)\"\n",
    "re.findall(regex, text2)"
   ]
  },
  {
   "cell_type": "code",
   "execution_count": 77,
   "id": "5b93f6c2-fe30-4687-bc2e-121931759b83",
   "metadata": {},
   "outputs": [
    {
     "data": {
      "text/plain": [
       "['June', 'August', 'Dec']"
      ]
     },
     "execution_count": 77,
     "metadata": {},
     "output_type": "execute_result"
    }
   ],
   "source": [
    "# Non-Capturing groups\n",
    "# (?:)  <---- for non capturing groups\n",
    "\n",
    "\n",
    "regex = \"([A-z]+)\\s(?:\\d+)\"\n",
    "re.findall(regex, text2)"
   ]
  }
 ],
 "metadata": {
  "kernelspec": {
   "display_name": "Python 3 (ipykernel)",
   "language": "python",
   "name": "python3"
  },
  "language_info": {
   "codemirror_mode": {
    "name": "ipython",
    "version": 3
   },
   "file_extension": ".py",
   "mimetype": "text/x-python",
   "name": "python",
   "nbconvert_exporter": "python",
   "pygments_lexer": "ipython3",
   "version": "3.9.12"
  }
 },
 "nbformat": 4,
 "nbformat_minor": 5
}
